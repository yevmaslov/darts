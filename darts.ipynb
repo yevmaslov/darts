{
 "cells": [
  {
   "cell_type": "code",
   "execution_count": 1,
   "metadata": {},
   "outputs": [],
   "source": [
    "import pandas as pd\n",
    "import numpy as np\n",
    "\n",
    "import os\n",
    "from datetime import date\n",
    "\n",
    "import matplotlib.pyplot as plt\n",
    "import seaborn as sns"
   ]
  },
  {
   "cell_type": "code",
   "execution_count": 23,
   "metadata": {},
   "outputs": [
    {
     "data": {
      "text/html": [
       "<div>\n",
       "<style scoped>\n",
       "    .dataframe tbody tr th:only-of-type {\n",
       "        vertical-align: middle;\n",
       "    }\n",
       "\n",
       "    .dataframe tbody tr th {\n",
       "        vertical-align: top;\n",
       "    }\n",
       "\n",
       "    .dataframe thead th {\n",
       "        text-align: right;\n",
       "    }\n",
       "</style>\n",
       "<table border=\"1\" class=\"dataframe\">\n",
       "  <thead>\n",
       "    <tr style=\"text-align: right;\">\n",
       "      <th></th>\n",
       "      <th>throw1</th>\n",
       "      <th>throw2</th>\n",
       "      <th>throw3</th>\n",
       "      <th>sum</th>\n",
       "      <th>player</th>\n",
       "      <th>players</th>\n",
       "      <th>date</th>\n",
       "    </tr>\n",
       "  </thead>\n",
       "  <tbody>\n",
       "    <tr>\n",
       "      <th>133</th>\n",
       "      <td>77</td>\n",
       "      <td>90</td>\n",
       "      <td>44</td>\n",
       "      <td>211</td>\n",
       "      <td>Evgenii</td>\n",
       "      <td>Evgenii</td>\n",
       "      <td>2021-09-04</td>\n",
       "    </tr>\n",
       "    <tr>\n",
       "      <th>134</th>\n",
       "      <td>21</td>\n",
       "      <td>68</td>\n",
       "      <td>40</td>\n",
       "      <td>129</td>\n",
       "      <td>Evgenii</td>\n",
       "      <td>Evgenii</td>\n",
       "      <td>2021-09-04</td>\n",
       "    </tr>\n",
       "    <tr>\n",
       "      <th>135</th>\n",
       "      <td>63</td>\n",
       "      <td>34</td>\n",
       "      <td>50</td>\n",
       "      <td>147</td>\n",
       "      <td>Evgenii</td>\n",
       "      <td>Evgenii</td>\n",
       "      <td>2021-09-04</td>\n",
       "    </tr>\n",
       "    <tr>\n",
       "      <th>136</th>\n",
       "      <td>11</td>\n",
       "      <td>46</td>\n",
       "      <td>42</td>\n",
       "      <td>99</td>\n",
       "      <td>Evgenii</td>\n",
       "      <td>Evgenii</td>\n",
       "      <td>2021-09-04</td>\n",
       "    </tr>\n",
       "    <tr>\n",
       "      <th>137</th>\n",
       "      <td>48</td>\n",
       "      <td>77</td>\n",
       "      <td>29</td>\n",
       "      <td>154</td>\n",
       "      <td>Evgenii</td>\n",
       "      <td>Evgenii</td>\n",
       "      <td>2021-09-04</td>\n",
       "    </tr>\n",
       "  </tbody>\n",
       "</table>\n",
       "</div>"
      ],
      "text/plain": [
       "     throw1  throw2  throw3  sum   player  players        date\n",
       "133      77      90      44  211  Evgenii  Evgenii  2021-09-04\n",
       "134      21      68      40  129  Evgenii  Evgenii  2021-09-04\n",
       "135      63      34      50  147  Evgenii  Evgenii  2021-09-04\n",
       "136      11      46      42   99  Evgenii  Evgenii  2021-09-04\n",
       "137      48      77      29  154  Evgenii  Evgenii  2021-09-04"
      ]
     },
     "execution_count": 23,
     "metadata": {},
     "output_type": "execute_result"
    }
   ],
   "source": [
    "df = pd.read_csv('darts_data/df.csv')\n",
    "df.tail(5)"
   ]
  },
  {
   "cell_type": "code",
   "execution_count": 44,
   "metadata": {},
   "outputs": [
    {
     "data": {
      "text/plain": [
       "array([[3, 6]])"
      ]
     },
     "execution_count": 44,
     "metadata": {},
     "output_type": "execute_result"
    }
   ],
   "source": [
    "arr = np.array([[3, 6]])\n",
    "arr"
   ]
  },
  {
   "cell_type": "code",
   "execution_count": 45,
   "metadata": {},
   "outputs": [
    {
     "name": "stdout",
     "output_type": "stream",
     "text": [
      "[3 6]\n"
     ]
    }
   ],
   "source": [
    "for i in arr:\n",
    "    print(i)"
   ]
  },
  {
   "cell_type": "code",
   "execution_count": 46,
   "metadata": {},
   "outputs": [],
   "source": [
    "legit_players = ['Evgenii', 'Andrii', 'Dima', 'Anna']\n",
    "\n",
    "def generate_statistics(df, player='Evgenii'):\n",
    "    assert player in legit_players, f'I dont know this player: {player}'\n",
    "    \n",
    "    subset = df[df['player'] == player]\n",
    "    flat_throws = np.concatenate([subset['throw1'].values, subset['throw2'].values, subset['throw3'].values])\n",
    "    \n",
    "    print('------------------------')\n",
    "    print(f'Mean throw sum: {round(np.mean(flat_throws))}')\n",
    "    print(f'Mean game sum: {round(subset[\"sum\"].mean())}')\n",
    "    print('------------------------')\n",
    "    \n",
    "    fig, axs = plt.subplots(1, 2, figsize=(18, 8))\n",
    "    axs[0].set_title('Game sum distribution')\n",
    "    sns.histplot(subset[\"sum\"], ax=axs[0])\n",
    "    \n",
    "    axs[1].set_title('Throw sum distribution')\n",
    "    sns.histplot(flat_throws, ax=axs[1])\n",
    "    plt.show()"
   ]
  },
  {
   "cell_type": "code",
   "execution_count": 47,
   "metadata": {},
   "outputs": [
    {
     "name": "stdout",
     "output_type": "stream",
     "text": [
      "------------------------\n",
      "Mean throw sum: 42\n",
      "Mean game sum: 127\n",
      "------------------------\n"
     ]
    },
    {
     "data": {
      "image/png": "[encoded data removed]",
      "text/plain": [
       "<Figure size 1296x576 with 2 Axes>"
      ]
     },
     "metadata": {
      "needs_background": "light"
     },
     "output_type": "display_data"
    }
   ],
   "source": [
    "generate_statistics(df)"
   ]
  },
  {
   "cell_type": "code",
   "execution_count": null,
   "metadata": {},
   "outputs": [],
   "source": []
  }
 ],
 "metadata": {
  "kernelspec": {
   "display_name": "Python 3",
   "language": "python",
   "name": "python3"
  },
  "language_info": {
   "codemirror_mode": {
    "name": "ipython",
    "version": 3
   },
   "file_extension": ".py",
   "mimetype": "text/x-python",
   "name": "python",
   "nbconvert_exporter": "python",
   "pygments_lexer": "ipython3",
   "version": "3.8.5"
  }
 },
 "nbformat": 4,
 "nbformat_minor": 5
}
